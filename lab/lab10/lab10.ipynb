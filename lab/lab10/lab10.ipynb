{
 "cells": [
  {
   "cell_type": "code",
   "execution_count": null,
   "id": "44b609f2",
   "metadata": {
    "deletable": false,
    "editable": false
   },
   "outputs": [],
   "source": [
    "# Initialize Otter\n",
    "import otter\n",
    "grader = otter.Notebook(\"lab10.ipynb\")"
   ]
  },
  {
   "cell_type": "markdown",
   "id": "7337bb1d",
   "metadata": {},
   "source": [
    "<table style=\"width: 100%;\">\n",
    "    <tr style=\"background-color: transparent;\"><td>\n",
    "        <img src=\"https://data-88e.github.io/assets/images/blue_text.png\" width=\"250px\" style=\"margin-left: 0;\" />\n",
    "    </td><td>\n",
    "        <p style=\"text-align: right; font-size: 10pt;\"><strong>Economic Models</strong>, Fall 2022<br>\n",
    "            Dr. Eric Van Dusen<br>\n",
    "        Andrei Caprau<br>\n",
    "        Sreeja Apparaju<br>\n",
    "        Umar Maniku<br>\n",
    "        Rohan Jha<br>\n",
    "        Yiyang Chen<br></p></td></tr>\n",
    "</table>"
   ]
  },
  {
   "cell_type": "markdown",
   "id": "9a1dd2c1",
   "metadata": {},
   "source": [
    "# Lab 9: Finance"
   ]
  },
  {
   "cell_type": "markdown",
   "id": "50b38f34",
   "metadata": {},
   "source": [
    "In this lab we'll go over some of the concepts taught in lecture and explore how we can better understand these concepts."
   ]
  },
  {
   "cell_type": "code",
   "execution_count": null,
   "id": "4d048271",
   "metadata": {},
   "outputs": [],
   "source": [
    "try: \n",
    "    import yfinance as yf\n",
    "except:\n",
    "    !pip install yfinance\n",
    "    import yfinance as yf"
   ]
  },
  {
   "cell_type": "code",
   "execution_count": null,
   "id": "d76e28e1",
   "metadata": {},
   "outputs": [],
   "source": [
    "import numpy as np\n",
    "import matplotlib.pyplot as plt\n",
    "import matplotlib.patches as patches\n",
    "import sympy\n",
    "from ipywidgets import interact, interactive, fixed, interact_manual\n",
    "import ipywidgets as widgets\n",
    "from IPython.display import display\n",
    "from scipy import stats\n",
    "import warnings\n",
    "from datascience import *\n",
    "warnings.filterwarnings('ignore')\n",
    "plt.style.use(\"seaborn-muted\")\n",
    "%matplotlib inline"
   ]
  },
  {
   "cell_type": "markdown",
   "id": "90669ba6",
   "metadata": {},
   "source": [
    "## Compounding Interest"
   ]
  },
  {
   "cell_type": "markdown",
   "id": "7613b275",
   "metadata": {},
   "source": [
    "We mentioned in this week's lesson how interest in one year builds on top of not only the principal amount of money deposited into an account, but also the interest earned in previous years. This can be very powerful.\n",
    "\n",
    "Below is a tool that simulates a retirement or savings account. Each year, a fixed amount is deposited into the account. This is represented by `deposits`. In addition, the account compounds interest from last year's balance, with constant interest rate `r`. **`r` is expressed as a proportion.** So if an account yields 10% interest, `r = 0.1`. `t` is how many years this account accrues interest. In this example, if `t` is 0, the balance in the account is just the deposit as no interest has been accrued. If `t` is 1, the balance in the account is the initial deposit with interest compounded, plus the next year's deposit."
   ]
  },
  {
   "cell_type": "markdown",
   "id": "37a7374c",
   "metadata": {
    "deletable": false,
    "editable": false
   },
   "source": [
    "**Question 1:** Complete the code for `plot_comp_interest`. Notice that the list called `balance` tracks the current balance in the account each year. We've given you the first element in that list. For each year after the first, how do you calculate the balance in the account? \n",
    "\n",
    "After completing the code for `plot_comp_interest`, use this function to compute the balance you have after 5 years for a deposit of 10,000 every year at an interest rate of 5%. Assign the value to `balance_calc`.\n",
    "\n",
    "*Hint*: Recall that the account grows through interest **AND** yearly deposits.\n",
    "\n",
    "<!--\n",
    "BEGIN QUESTION\n",
    "name: q1\n",
    "-->"
   ]
  },
  {
   "cell_type": "code",
   "execution_count": null,
   "id": "41721ebe",
   "metadata": {},
   "outputs": [],
   "source": [
    "def plot_comp_interest(deposits, r, t):\n",
    "    # This initiates a list where we will store the balance\n",
    "    # in the account for each year.\n",
    "    balance = np.array([])\n",
    "    balance = np.append(balance, deposits)\n",
    "    \n",
    "    # For each year, this adds an element to the list of \n",
    "    # balances.\n",
    "    for _ in range(t):\n",
    "        balance = np.append(balance, balance.item(-1) * ... + ...)\n",
    "        \n",
    "    # Code for plotting, don't edit\n",
    "    plt.figure(figsize=(8,6))\n",
    "    plt.plot(np.arange(t + 1), balance)\n",
    "    plt.xlabel('Time in Years')\n",
    "    plt.ylabel('Account Balance')\n",
    "    plt.title('Account Balance Over Time')\n",
    "    plt.ylim((0, 1000000))\n",
    "    plt.xlim((0, t))\n",
    "    \n",
    "    print('Balance after {} years: {}'.format(t, np.round(balance.item(-1), 2)))\n",
    "    print('Balance if there were no interest: {}'.format(deposits * (t + 1)))\n",
    "    return balance.item(-1)\n",
    "balance_calc = plot_comp_interest(...)\n"
   ]
  },
  {
   "cell_type": "code",
   "execution_count": null,
   "id": "0f714023",
   "metadata": {
    "deletable": false,
    "editable": false
   },
   "outputs": [],
   "source": [
    "grader.check(\"q1\")"
   ]
  },
  {
   "cell_type": "markdown",
   "id": "7ade29e6",
   "metadata": {},
   "source": [
    "Run the cell below to generate an interactive plot where you can adjust the three variables in `plot_comp_interest` to see what happens to the balance in the account."
   ]
  },
  {
   "cell_type": "code",
   "execution_count": null,
   "id": "8d3ecce1",
   "metadata": {},
   "outputs": [],
   "source": [
    "deposits_slider = widgets.IntSlider(min = 500, max = 10000, step = 500, value = 5000)\n",
    "r_slider = widgets.FloatSlider(min = 0.01, max = 0.2, step = 0.01, value = 0.1)\n",
    "t_slider = widgets.IntSlider(min = 10, max = 30, step = 1, value = 20)\n",
    "display(widgets.interactive(plot_comp_interest, deposits = deposits_slider, r = r_slider, t = t_slider))"
   ]
  },
  {
   "cell_type": "markdown",
   "id": "6a4f82f5",
   "metadata": {
    "deletable": false,
    "editable": false
   },
   "source": [
    "**Question 2**: Try out the sliders. Assign `True` to the respective variable if the answer to the question is \"yes\", and `False` if the answer to the question is \"no\".\n",
    "1. What happens as you increase the amount of fixed deposits? Does the balance in the account grow faster?\n",
    "2. What happens as the interest rate increases? Does the balance in the account grow faster?\n",
    "3. What happens as you invest into the account for longer periods of time? Are you left with a smaller account balance than if you had invested for a shorter period of time?\n",
    "\n",
    "<!--\n",
    "BEGIN QUESTION\n",
    "name: q2\n",
    "points:\n",
    "    - 0\n",
    "    - 0\n",
    "    - 0\n",
    "    - 0.33\n",
    "    - 0.33\n",
    "    - 0.34\n",
    "-->"
   ]
  },
  {
   "cell_type": "code",
   "execution_count": null,
   "id": "70b7c40b",
   "metadata": {},
   "outputs": [],
   "source": [
    "q2_1 = ...\n",
    "q2_2 = ...\n",
    "q2_3 = ..."
   ]
  },
  {
   "cell_type": "code",
   "execution_count": null,
   "id": "0c1c40a4",
   "metadata": {
    "deletable": false,
    "editable": false
   },
   "outputs": [],
   "source": [
    "grader.check(\"q2\")"
   ]
  },
  {
   "cell_type": "markdown",
   "id": "f496f6bf",
   "metadata": {},
   "source": [
    "## Graphing Stocks\n",
    "\n",
    "For the following questions, we will finding the returns for Apple and Tesla stocks. Similar to our lecture notebook, we will first be plotting the time series graph for Apple and Tesla's stock prices. Then, we will be plotting their returns on the same graph like we did in lecture for S&P500 and NASDAQ. "
   ]
  },
  {
   "cell_type": "markdown",
   "id": "ff263b7a",
   "metadata": {},
   "source": [
    "Below, we define `data_APTL` that contains the stocks information for Apple and Tesla from June 29, 2010 (the date Tesla IPO'd) until Novemeber 1st, 2022."
   ]
  },
  {
   "cell_type": "code",
   "execution_count": null,
   "id": "1766b51a",
   "metadata": {},
   "outputs": [],
   "source": [
    "data_APTL = yf.download((\"AAPL\", 'TSLA'), start=\"2010-06-29\", end=\"2022-11-01\")"
   ]
  },
  {
   "cell_type": "code",
   "execution_count": null,
   "id": "af508f40",
   "metadata": {},
   "outputs": [],
   "source": [
    "# You don't need to understand the following code\n",
    "data_AT = data_APTL.iloc[:, [2,3]]\n",
    "data_AP = data_APTL.iloc[:, 0]\n",
    "data_TL = data_APTL.iloc[:, 1]\n",
    "dAP = np.array(len(data_AP)-1)\n",
    "for i in range(len(data_AP)-1):\n",
    "    dat = ((data_AP[i] - data_AP[i+1])/data_AP[i])*100\n",
    "    dAP = np.append(dAP,dat)\n",
    "dTL = np.array(len(data_TL)-1)\n",
    "for i in range(len(data_TL)-1):\n",
    "    dat = ((data_TL[i] - data_TL[i+1])/data_TL[i])*100\n",
    "    dTL = np.append(dTL,dat)\n",
    "data_AT['AP Returns'] = dAP\n",
    "data_AT['TL Returns'] = dTL"
   ]
  },
  {
   "cell_type": "markdown",
   "id": "6f60698e",
   "metadata": {},
   "source": [
    "The above code is written in Pandas and you don't need to understand it for this class. It essentially calculates the return rate (formula we discussed in the lecture). Just run the 2 cells below - they should produce graphs which you will look at to answer questions 3.1 and 3.2. If you're not sure what the graphs represent, please make sure to look at the titles of the graphs."
   ]
  },
  {
   "cell_type": "code",
   "execution_count": null,
   "id": "e2967e93",
   "metadata": {},
   "outputs": [],
   "source": [
    "data_AT.iloc[:,[0,1]].plot(color = ('blue', 'red'), \n",
    "                           figsize = (10,8), alpha = 0.3, \n",
    "                           title = 'Closing Prices of Tesla and Apple');"
   ]
  },
  {
   "cell_type": "markdown",
   "id": "34720301",
   "metadata": {
    "deletable": false,
    "editable": false
   },
   "source": [
    "<!-- BEGIN QUESTION -->\n",
    "\n",
    "**Question 3.1:** Comment on the closing price of Apple and Tesla over the years.\n",
    "<!--\n",
    "BEGIN QUESTION\n",
    "name: q3_1\n",
    "manual: true\n",
    "-->"
   ]
  },
  {
   "cell_type": "markdown",
   "id": "edde3abd",
   "metadata": {},
   "source": [
    "_Type your answer here, replacing this text._"
   ]
  },
  {
   "cell_type": "markdown",
   "id": "c48f53db",
   "metadata": {
    "deletable": false,
    "editable": false
   },
   "source": [
    "<!-- END QUESTION -->"
   ]
  },
  {
   "cell_type": "code",
   "execution_count": null,
   "id": "6bdafb7b",
   "metadata": {},
   "outputs": [],
   "source": [
    "data_3_1 = data_AT[['AP Returns', 'TL Returns']].iloc[1:]\n",
    "data_3_1.plot(color = ('blue', 'red'), figsize = (10,8), alpha = 0.3, title = \"Returns for Apple and Tesla\");"
   ]
  },
  {
   "cell_type": "markdown",
   "id": "ec2721c1",
   "metadata": {
    "deletable": false,
    "editable": false
   },
   "source": [
    "<!-- BEGIN QUESTION -->\n",
    "\n",
    "**Question 3.2:** Comment on the returns for Apple and Tesla over the years.\n",
    "<!--\n",
    "BEGIN QUESTION\n",
    "name: q3_2\n",
    "manual: true\n",
    "-->"
   ]
  },
  {
   "cell_type": "markdown",
   "id": "ec3e73a6",
   "metadata": {},
   "source": [
    "_Type your answer here, replacing this text._"
   ]
  },
  {
   "cell_type": "markdown",
   "id": "ba852ded",
   "metadata": {
    "deletable": false,
    "editable": false
   },
   "source": [
    "<!-- END QUESTION -->\n",
    "\n",
    "<!-- BEGIN QUESTION -->\n",
    "\n",
    "**Question 3.3:** Now we will work with more stocks other than Apple and Tesla. Think of a stock that would have increased rapidly during COVID, and another that would have decreased rapidly. Explain why you think their stock prices may have increased or decreased during the COVID pandemic.\n",
    "\n",
    "<!--\n",
    "BEGIN QUESTION\n",
    "name: q3_3\n",
    "manual: true\n",
    "-->"
   ]
  },
  {
   "cell_type": "markdown",
   "id": "7f393f0b",
   "metadata": {},
   "source": [
    "_Type your answer here, replacing this text._"
   ]
  },
  {
   "cell_type": "markdown",
   "id": "b11b1fa9",
   "metadata": {
    "deletable": false,
    "editable": false
   },
   "source": [
    "<!-- END QUESTION -->\n",
    "\n",
    "<!-- BEGIN QUESTION -->\n",
    "\n",
    "**Question 3.4:** Now, define `data_covid` to include the data for the 2 stocks you discussed in questions 3.3. This time, you will be looking these stocks from the start of 2020 until the end of 2021 - a time period chosen to help you see the effects of COVID! We have already provided the basic code below - just input in the tickers for the stocks you're interested in at the right places. \n",
    "\n",
    "<!--\n",
    "BEGIN QUESTION\n",
    "name: q3_7\n",
    "manual: true\n",
    "-->"
   ]
  },
  {
   "cell_type": "code",
   "execution_count": null,
   "id": "64f0e8e0",
   "metadata": {},
   "outputs": [],
   "source": [
    "data_covid = yf.download((..., ...), start=\"2020-01-01\", end=\"2021-12-31\")"
   ]
  },
  {
   "cell_type": "markdown",
   "id": "2bd9896e",
   "metadata": {},
   "source": [
    "<!-- END QUESTION -->\n",
    "\n",
    "\n",
    "\n",
    "The code cell below does the same pandas manipulations as above to calculate the return rate for your stocks."
   ]
  },
  {
   "cell_type": "code",
   "execution_count": null,
   "id": "42e7a3a7",
   "metadata": {},
   "outputs": [],
   "source": [
    "data_one_covid = data_covid.iloc[:, [2,3]]\n",
    "data_two = data_covid.iloc[:, 0]\n",
    "data_three = data_covid.iloc[:, 1]\n",
    "dtwo = np.array(len(data_two)-1)\n",
    "for i in range(len(data_two)-1):\n",
    "    dat = ((data_two[i] - data_two[i+1])/data_two[i])*100\n",
    "    dtwo = np.append(dtwo,dat)\n",
    "dthree = np.array(len(data_three)-1)\n",
    "for i in range(len(data_three)-1):\n",
    "    dat = ((data_three[i] - data_three[i+1])/data_three[i])*100\n",
    "    dthree = np.append(dthree,dat)\n",
    "col_1_38 = data_covid.columns[0][1]\n",
    "col_2_38 = data_covid.columns[1][1]\n",
    "data_one_covid[f'Returns for {col_1_38}'] = dtwo\n",
    "data_one_covid[f'Returns for {col_2_38}'] = dthree"
   ]
  },
  {
   "cell_type": "code",
   "execution_count": null,
   "id": "16431fdf",
   "metadata": {},
   "outputs": [],
   "source": [
    "data_3_4_1 = data_one_covid.iloc[:,[0,1]]\n",
    "data_3_4_1.plot(color = ('blue', 'red'), figsize= (10,8), alpha = 0.3, title = 'Closing Prices of your chosen stocks');"
   ]
  },
  {
   "cell_type": "code",
   "execution_count": null,
   "id": "00167ab4",
   "metadata": {},
   "outputs": [],
   "source": [
    "data_3_4_2 = data_one_covid[[f'Returns for {col_1_38}', f'Returns for {col_2_38}']].iloc[1:]\n",
    "data_3_4_2.plot(color = ('blue', 'red'), figsize=(10,8), alpha =0.3, title = \"Returns for your chosen stocks\");"
   ]
  },
  {
   "cell_type": "markdown",
   "id": "77c35706",
   "metadata": {
    "deletable": false,
    "editable": false
   },
   "source": [
    "<!-- BEGIN QUESTION -->\n",
    "\n",
    "**Question 3.5:** Comment on the prices and returns of your chosen stocks. Do these prices and returns align with your expectations? How about the volatility of these two stocks? Full credits will be given to any reasonable answers. \n",
    "\n",
    "<!--\n",
    "BEGIN QUESTION\n",
    "name: q3_8\n",
    "manual: true\n",
    "-->"
   ]
  },
  {
   "cell_type": "markdown",
   "id": "4b5795f2",
   "metadata": {},
   "source": [
    "_Type your answer here, replacing this text._"
   ]
  },
  {
   "cell_type": "markdown",
   "id": "cee982b5",
   "metadata": {
    "deletable": false,
    "editable": false
   },
   "source": [
    "<!-- END QUESTION -->\n",
    "\n",
    "**Question 3.6:**\n",
    "Which of the following has the potential to positively impact stock prices of a certain company?\n",
    "\n",
    "<ol type=\"A\" style=\"list-style-type: lower-alpha;\">\n",
    "    <li>Federal Reserve has decided to raise interest rate to combat inflation. </li>\n",
    "    <li>Investors are not confident about the market. </li>\n",
    "    <li>The company earnings report show higher revenue than expected. </li>\n",
    "    <li>There are bad news about the company's product.  </li>\n",
    "</ol>\n",
    "\n",
    "Assign a letter corresponding to your answer to `q3_6` below. For example, `q3_6 = 'a'`.\n",
    "\n",
    "<!--\n",
    "BEGIN QUESTION\n",
    "name: q3_6\n",
    "points: \n",
    "    - 0\n",
    "    - 1\n",
    "-->"
   ]
  },
  {
   "cell_type": "code",
   "execution_count": null,
   "id": "23e511c8",
   "metadata": {},
   "outputs": [],
   "source": [
    "q3_6 = ..."
   ]
  },
  {
   "cell_type": "code",
   "execution_count": null,
   "id": "afe2e52c",
   "metadata": {
    "deletable": false,
    "editable": false
   },
   "outputs": [],
   "source": [
    "grader.check(\"q3_6\")"
   ]
  },
  {
   "cell_type": "markdown",
   "id": "8edf6fca",
   "metadata": {},
   "source": [
    "## Options\n",
    "\n",
    "In the following section you will be asked a series of short questions regarding options. Set the variable for each question equal to your answer."
   ]
  },
  {
   "cell_type": "markdown",
   "id": "84c5b708",
   "metadata": {
    "deletable": false,
    "editable": false
   },
   "source": [
    "**Question 4.1:** Let's say that you are interested in purchasing the stock of Tesla, but owning Tesla stock makes you nervous due to the volatile nature of the stock price. Therefore, you would like to hedge your holdings by purchasing options. If you purchase 100 shares of Tesla, what kind of option would you need to use to hedge against extreme losses in the event that Tesla's price drops? \n",
    "\n",
    "<ol type=\"A\" style=\"list-style-type: lower-alpha;\">\n",
    "    <li>Long call </li>\n",
    "    <li>Long put </li>\n",
    "    <li>Short call </li>\n",
    "    <li>Short put  </li>\n",
    "</ol>\n",
    "\n",
    "Assign a letter corresponding to your answer to `q4_1` below. For example, `q4_1 = 'a'`.\n",
    "\n",
    "<!--\n",
    "BEGIN QUESTION\n",
    "name: q4_1\n",
    "points:\n",
    "    - 0\n",
    "    - 1\n",
    "-->"
   ]
  },
  {
   "cell_type": "code",
   "execution_count": null,
   "id": "730c5030",
   "metadata": {},
   "outputs": [],
   "source": [
    "q4_1 = ..."
   ]
  },
  {
   "cell_type": "code",
   "execution_count": null,
   "id": "9d009f97",
   "metadata": {
    "deletable": false,
    "editable": false
   },
   "outputs": [],
   "source": [
    "grader.check(\"q4_1\")"
   ]
  },
  {
   "cell_type": "markdown",
   "id": "a945c97f",
   "metadata": {
    "deletable": false,
    "editable": false
   },
   "source": [
    "**Question 4.2:** Continuing from the scenario above, let's say you purchase 100 shares of the Tesla stock for a price of \\\\$1000 each. Additionally, you purchased a long put for \\\\$100 that covers all your 100 shares with the following properties: strike of \\\\$800, expiration in one week. Immediately after making these purchases, assuming that they constitute the entirety of your portfolio, how much is your portfolio worth? For this group of questions we will acknowledge that options have value and not ignore their cost.\n",
    "\n",
    "<!--\n",
    "BEGIN QUESTION\n",
    "name: q4_2\n",
    "points:\n",
    "    - 0\n",
    "    - 0.5\n",
    "-->"
   ]
  },
  {
   "cell_type": "code",
   "execution_count": null,
   "id": "6637045f",
   "metadata": {},
   "outputs": [],
   "source": [
    "q4_2 = ..."
   ]
  },
  {
   "cell_type": "code",
   "execution_count": null,
   "id": "aa34534f",
   "metadata": {
    "deletable": false,
    "editable": false
   },
   "outputs": [],
   "source": [
    "grader.check(\"q4_2\")"
   ]
  },
  {
   "cell_type": "markdown",
   "id": "35aa1b55",
   "metadata": {
    "deletable": false,
    "editable": false
   },
   "source": [
    "**Question 4.3:** Continuing from above, how much is your portfolio worth after one week has passed, assuming that Tesla's price remains at \\\\$1000 the entire time?\n",
    "\n",
    "<!--\n",
    "BEGIN QUESTION\n",
    "name: q4_3\n",
    "points:\n",
    "    - 0\n",
    "    - 0.5\n",
    "-->"
   ]
  },
  {
   "cell_type": "code",
   "execution_count": null,
   "id": "bcf53074",
   "metadata": {},
   "outputs": [],
   "source": [
    "q4_3 = ..."
   ]
  },
  {
   "cell_type": "code",
   "execution_count": null,
   "id": "8c348b13",
   "metadata": {
    "deletable": false,
    "editable": false
   },
   "outputs": [],
   "source": [
    "grader.check(\"q4_3\")"
   ]
  },
  {
   "cell_type": "markdown",
   "id": "61247faf",
   "metadata": {
    "deletable": false,
    "editable": false
   },
   "source": [
    "**Question 4.4:** Continuing from above, suppose that Tesla's price remained at \\\\$1000 for one week, but after that its price dropped to \\\\$700. Displeased with this, you decide to sell off your portfolio without exercising the options. How much did you gain/lose in this scenario, from portfolio creation till now. If you lost money, please give your answer as a negative number.\n",
    "\n",
    "<!--\n",
    "BEGIN QUESTION\n",
    "name: q4_4\n",
    "points:\n",
    "    - 0\n",
    "    - 0.5\n",
    "-->"
   ]
  },
  {
   "cell_type": "code",
   "execution_count": null,
   "id": "5c0963d4",
   "metadata": {},
   "outputs": [],
   "source": [
    "q4_4 = ..."
   ]
  },
  {
   "cell_type": "code",
   "execution_count": null,
   "id": "de1896a3",
   "metadata": {
    "deletable": false,
    "editable": false
   },
   "outputs": [],
   "source": [
    "grader.check(\"q4_4\")"
   ]
  },
  {
   "cell_type": "markdown",
   "id": "4ddf0ce6",
   "metadata": {
    "deletable": false,
    "editable": false
   },
   "source": [
    "**Question 4.5:** Suppose now you're in a similar situation as above, but instead Tesla's price drops to \\\\$700 the day after you form your portfolio. Displeased with this, you decide to sell off your portfolio, utilizing any options if it is profitable for you to do so. How much did you gain/lose in this scenario, from portfolio creation till now. If you lost money, please give your answer as a negative number.\n",
    "\n",
    "<!--\n",
    "BEGIN QUESTION\n",
    "name: q4_5\n",
    "points:\n",
    "    - 0\n",
    "    - 0.5\n",
    "-->"
   ]
  },
  {
   "cell_type": "code",
   "execution_count": null,
   "id": "aa5cc558",
   "metadata": {},
   "outputs": [],
   "source": [
    "q4_5 = ..."
   ]
  },
  {
   "cell_type": "code",
   "execution_count": null,
   "id": "381cb84b",
   "metadata": {
    "deletable": false,
    "editable": false
   },
   "outputs": [],
   "source": [
    "grader.check(\"q4_5\")"
   ]
  },
  {
   "cell_type": "markdown",
   "id": "9ad80c5b",
   "metadata": {
    "deletable": false,
    "editable": false
   },
   "source": [
    "**Question 4.6:** Suppose now you're in a similar situation as above (you have a portfolio of 100 shares of Tesla and one option that you identified in question 4.1), but after one week has passed, Tesla's price goes up to \\\\$1100 (remember you bought it at \\\\$1000). Satisfied with this, you decide to sell off your portfolio, utilizing any options if it is profitable for you to do so. How much did you gain/lose in this scenario, from portfolio creation till now. If you lost money, please give your answer as a negative number.\n",
    "\n",
    "<!--\n",
    "BEGIN QUESTION\n",
    "name: q4_6\n",
    "points:\n",
    "    - 0\n",
    "    - 0.5\n",
    "-->"
   ]
  },
  {
   "cell_type": "code",
   "execution_count": null,
   "id": "36171a0d",
   "metadata": {},
   "outputs": [],
   "source": [
    "q4_6 = ..."
   ]
  },
  {
   "cell_type": "code",
   "execution_count": null,
   "id": "fe685381",
   "metadata": {
    "deletable": false,
    "editable": false
   },
   "outputs": [],
   "source": [
    "grader.check(\"q4_6\")"
   ]
  },
  {
   "cell_type": "markdown",
   "id": "8ef80bd1",
   "metadata": {
    "deletable": false,
    "editable": false
   },
   "source": [
    "**Question 5.1:** Not wanting to live with the stress of owning a volatile stock like Tesla, you decide to create a new portfolio, this time with 100 shares of Apple stock for which you paid \\\\$350 apiece. Suppose that you have strong faith in the fundamentals of Apple, and don't mind temporary losses due to drops in Apple's price. However, you don't think Apple's stock price will increase in the short-run because of the overall negative market sentiments. So you decide to make some money by *selling* one call on Apple. The properties of this short call are as follows: you sold it for \\\\$200 covering 100 shares of Apple stocks, it has a strike of \\\\$400, and it expires in one month. How much did it cost you to form this portfolio? For this question please define your answer as a positive number.\n",
    "\n",
    "<!--\n",
    "BEGIN QUESTION\n",
    "name: q5_1\n",
    "points:\n",
    "    - 0\n",
    "    - 0.5\n",
    "-->"
   ]
  },
  {
   "cell_type": "code",
   "execution_count": null,
   "id": "5888c307",
   "metadata": {},
   "outputs": [],
   "source": [
    "q5_1 = ..."
   ]
  },
  {
   "cell_type": "code",
   "execution_count": null,
   "id": "20b1ed82",
   "metadata": {
    "deletable": false,
    "editable": false
   },
   "outputs": [],
   "source": [
    "grader.check(\"q5_1\")"
   ]
  },
  {
   "cell_type": "markdown",
   "id": "2332e3ae",
   "metadata": {
    "deletable": false,
    "editable": false
   },
   "source": [
    "**Question 5.2:** Suppose Apple's stock price doesn't really change throughout the next month, and the option you sold expires worthless. After one month has passed from portfolio formation, you decide to sell another call option on Apple, with the same properties as above. Now how much has this portfolio cost you, from its creation till now? Again, please define your answer as a positive number.\n",
    "\n",
    "<!--\n",
    "BEGIN QUESTION\n",
    "name: q5_2\n",
    "points:\n",
    "    - 0\n",
    "    - 0.5\n",
    "-->"
   ]
  },
  {
   "cell_type": "code",
   "execution_count": null,
   "id": "65601995",
   "metadata": {},
   "outputs": [],
   "source": [
    "q5_2 = ..."
   ]
  },
  {
   "cell_type": "code",
   "execution_count": null,
   "id": "582d9d12",
   "metadata": {
    "deletable": false,
    "editable": false
   },
   "outputs": [],
   "source": [
    "grader.check(\"q5_2\")"
   ]
  },
  {
   "cell_type": "markdown",
   "id": "efbb2607",
   "metadata": {
    "deletable": false,
    "editable": false
   },
   "source": [
    "**Question 5.3:** In fact, Apple's stock price doesn't really change for the next year. Assuming you repeat this process month after month for 12 months starting from portfolio creation (where you sell a call option on Apple that ends up expiring worthless one month later) and sold in total 12 calls with the same properties. How much has this portfolio cost you, from its creation till now? Again, please define your answer as a positive number.\n",
    "\n",
    "<!--\n",
    "BEGIN QUESTION\n",
    "name: q5_3\n",
    "points:\n",
    "    - 0\n",
    "    - 0.5\n",
    "-->"
   ]
  },
  {
   "cell_type": "code",
   "execution_count": null,
   "id": "15dd7bbf",
   "metadata": {},
   "outputs": [],
   "source": [
    "q5_3 = ..."
   ]
  },
  {
   "cell_type": "code",
   "execution_count": null,
   "id": "570504ff",
   "metadata": {
    "deletable": false,
    "editable": false
   },
   "outputs": [],
   "source": [
    "grader.check(\"q5_3\")"
   ]
  },
  {
   "cell_type": "markdown",
   "id": "395fd0e0",
   "metadata": {
    "deletable": false,
    "editable": false
   },
   "source": [
    "**Question 5.4:** Continuing from above, after 12 months of this procedure have passed, you have now sold your 13th overall call option on Apple. The next day, Apple announces the AppleCar and their stock price jumps to \\\\$450. Because of this, your short call gets exercised, thus closing out your portfolio. How much money have you made (or lost) as a result of this portfolio, from creation till now? If you lost money, please give your answer as a negative number?\n",
    "\n",
    "<!--\n",
    "BEGIN QUESTION\n",
    "name: q5_4\n",
    "points:\n",
    "    - 0\n",
    "    - 0.25\n",
    "    - 0.25\n",
    "-->"
   ]
  },
  {
   "cell_type": "code",
   "execution_count": null,
   "id": "07d0b19b",
   "metadata": {},
   "outputs": [],
   "source": [
    "q5_4 = ..."
   ]
  },
  {
   "cell_type": "code",
   "execution_count": null,
   "id": "872e5da0",
   "metadata": {
    "deletable": false,
    "editable": false
   },
   "outputs": [],
   "source": [
    "grader.check(\"q5_4\")"
   ]
  },
  {
   "cell_type": "markdown",
   "id": "7675de59",
   "metadata": {
    "deletable": false,
    "editable": false
   },
   "source": [
    "#### Question 6\n",
    "\n",
    "1. What happens to the price of a call as volatility of the underlying stock increases? \n",
    "2. What happens to the price of a put as volatility of the underlying stock increases?\n",
    "\n",
    "Assign `True` to the respective variable if the answer to the question is \"increase\", and `False` if the answer to the question is \"decrease\".\n",
    "\n",
    "<!--\n",
    "BEGIN QUESTION\n",
    "name: q6\n",
    "points:\n",
    "    - 0\n",
    "    - 0.5\n",
    "-->"
   ]
  },
  {
   "cell_type": "code",
   "execution_count": null,
   "id": "f3c8c942",
   "metadata": {},
   "outputs": [],
   "source": [
    "q6_1 = ...\n",
    "q6_2 = ..."
   ]
  },
  {
   "cell_type": "code",
   "execution_count": null,
   "id": "75480e7a",
   "metadata": {
    "deletable": false,
    "editable": false
   },
   "outputs": [],
   "source": [
    "grader.check(\"q6\")"
   ]
  },
  {
   "cell_type": "markdown",
   "id": "c76ecbe3",
   "metadata": {},
   "source": [
    "## Conclusion"
   ]
  },
  {
   "cell_type": "markdown",
   "id": "666eebf4",
   "metadata": {},
   "source": [
    "Congratulations on finishing Lab 10!\n",
    "\n",
    "In the first part of the lab, we explored the power of compounding interest with code. In the second part of the lab, we graphed various stocks against each other and considered how external shocks (like COVID) can affect a stock's price. In the third, extra credit, portion of the lab, we turned our attention to options and portfolios. Hopefully, you now have a stronger base understanding of the fundamentals of financial markets. "
   ]
  },
  {
   "cell_type": "code",
   "execution_count": null,
   "id": "34b30a4b",
   "metadata": {},
   "outputs": [],
   "source": []
  },
  {
   "cell_type": "markdown",
   "id": "3071e9b1",
   "metadata": {
    "deletable": false,
    "editable": false
   },
   "source": [
    "---\n",
    "\n",
    "To double-check your work, the cell below will rerun all of the autograder tests."
   ]
  },
  {
   "cell_type": "code",
   "execution_count": null,
   "id": "57974376",
   "metadata": {
    "deletable": false,
    "editable": false
   },
   "outputs": [],
   "source": [
    "grader.check_all()"
   ]
  },
  {
   "cell_type": "markdown",
   "id": "70b2b683",
   "metadata": {
    "deletable": false,
    "editable": false
   },
   "source": [
    "## Submission\n",
    "\n",
    "Make sure you have run all cells in your notebook in order before running the cell below, so that all images/graphs appear in the output. The cell below will generate a zip file for you to submit. **Please save before exporting!**"
   ]
  },
  {
   "cell_type": "code",
   "execution_count": null,
   "id": "723d1d94",
   "metadata": {
    "deletable": false,
    "editable": false
   },
   "outputs": [],
   "source": [
    "# Save your notebook first, then run this cell to export your submission.\n",
    "grader.export(pdf=False)"
   ]
  },
  {
   "cell_type": "markdown",
   "id": "c5cdb9ae",
   "metadata": {},
   "source": [
    " "
   ]
  }
 ],
 "metadata": {
  "kernelspec": {
   "display_name": "Python 3 (ipykernel)",
   "language": "python",
   "name": "python3"
  },
  "language_info": {
   "codemirror_mode": {
    "name": "ipython",
    "version": 3
   },
   "file_extension": ".py",
   "mimetype": "text/x-python",
   "name": "python",
   "nbconvert_exporter": "python",
   "pygments_lexer": "ipython3",
   "version": "3.8.10"
  }
 },
 "nbformat": 4,
 "nbformat_minor": 5
}
