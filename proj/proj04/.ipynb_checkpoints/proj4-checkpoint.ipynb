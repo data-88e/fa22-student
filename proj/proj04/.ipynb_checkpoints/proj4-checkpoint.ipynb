{
 "cells": [
  {
   "cell_type": "code",
   "execution_count": 1,
   "id": "267c5205",
   "metadata": {
    "deletable": false,
    "editable": false
   },
   "outputs": [],
   "source": [
    "# Initialize Otter\n",
    "import otter\n",
    "grader = otter.Notebook(\"proj4.ipynb\")"
   ]
  },
  {
   "cell_type": "markdown",
   "id": "f5a7f15d",
   "metadata": {},
   "source": [
    "<table style=\"width: 100%;\" id=\"nb-header\">\n",
    "    <tr style=\"background-color: transparent;\"><td>\n",
    "        <img src=\"https://data-88e.github.io/assets/images/blue_text.png\" width=\"250px\" style=\"margin-left: 0;\" />\n",
    "    </td><td>\n",
    "        <p style=\"text-align: right; font-size: 10pt;\"><strong>Economic Models</strong>, Fall 2022<br>\n",
    "            Dr. Eric Van Dusen <br>\n",
    "        Notebook by Vaidehi Bulusu <br>\n",
    "</table>"
   ]
  },
  {
   "cell_type": "markdown",
   "id": "47e4ec9e",
   "metadata": {},
   "source": [
    "# Project 4: Econometrics\n",
    "\n",
    "In the textbook and this week's lecture, we gave you a theoretical introduction to econometrics. In this project, you'll get the chance to apply what you've learned and see how econometrics is actually used by economists!\n",
    "\n",
    "This project is based on an influential study on the relationship between a person's height and labor market outcomes, and is divided into 3 sections:\n",
    "\n",
    "1. Simple Linear Regression\n",
    "\n",
    "2. Multiple Linear Regression\n",
    "\n",
    "3. Reading Econometrics Tables\n",
    "\n",
    "You can refer to the [*Econometrics*](https://data-88e.github.io/textbook/content/11-econometrics/index.html) chapter in the textbook and week 12 resources for help on this project."
   ]
  },
  {
   "cell_type": "code",
   "execution_count": 2,
   "id": "15878934",
   "metadata": {},
   "outputs": [],
   "source": [
    "from datascience import *\n",
    "import numpy as np\n",
    "import pandas as pd\n",
    "import matplotlib.pyplot as plt\n",
    "import statsmodels.api as sm\n",
    "import warnings\n",
    "warnings.simplefilter(action='ignore')\n",
    "plt.style.use('seaborn-muted')\n",
    "%matplotlib inline\n",
    "plt.rcParams[\"figure.figsize\"] = [10,7]"
   ]
  },
  {
   "cell_type": "markdown",
   "id": "3a5d38d1",
   "metadata": {},
   "source": [
    " ## Part 1: Simple Linear Regression\n",
    "\n",
    "Several studies have identified a positive correlation between a person's height and labor market outcomes: on average, taller people have jobs that are of a higher status and pay more. In their paper, *[Stature and Status:\n",
    "Height, Ability, and Labor Market Outcomes](https://www.nber.org/system/files/working_papers/w12466/w12466.pdf)* (2008), economists Anne Case and Christina Paxson analyze the data from the US National Health Interview Survey in 1994 to explain this association. This is the data we will be using for our analysis.\n",
    "\n",
    "In the first part of the project, we will use simple (bivariate) linear regression to look at the association between a person's height and earnings, and consider the problems with limiting our regression model to just 1 regressor.\n",
    "\n",
    "We start by importing the `earnings.csv` dataset which contains information about the characteristics and labor market outcomes for 17,870 workers."
   ]
  },
  {
   "cell_type": "code",
   "execution_count": 3,
   "id": "e7464e0f",
   "metadata": {},
   "outputs": [
    {
     "data": {
      "text/html": [
       "<table border=\"1\" class=\"dataframe\">\n",
       "    <thead>\n",
       "        <tr>\n",
       "            <th>sex</th> <th>age</th> <th>mrd</th> <th>educ</th> <th>cworker</th> <th>region</th> <th>race</th> <th>earnings</th> <th>height</th> <th>weight</th> <th>occupation</th>\n",
       "        </tr>\n",
       "    </thead>\n",
       "    <tbody>\n",
       "        <tr>\n",
       "            <td>0   </td> <td>48  </td> <td>1   </td> <td>13  </td> <td>1      </td> <td>3     </td> <td>1   </td> <td>84054.8 </td> <td>65    </td> <td>133   </td> <td>1         </td>\n",
       "        </tr>\n",
       "        <tr>\n",
       "            <td>0   </td> <td>41  </td> <td>6   </td> <td>12  </td> <td>1      </td> <td>2     </td> <td>1   </td> <td>14021.4 </td> <td>65    </td> <td>155   </td> <td>1         </td>\n",
       "        </tr>\n",
       "        <tr>\n",
       "            <td>0   </td> <td>26  </td> <td>1   </td> <td>16  </td> <td>1      </td> <td>1     </td> <td>1   </td> <td>84054.8 </td> <td>60    </td> <td>108   </td> <td>1         </td>\n",
       "        </tr>\n",
       "        <tr>\n",
       "            <td>0   </td> <td>37  </td> <td>1   </td> <td>16  </td> <td>1      </td> <td>2     </td> <td>1   </td> <td>84054.8 </td> <td>67    </td> <td>150   </td> <td>1         </td>\n",
       "        </tr>\n",
       "        <tr>\n",
       "            <td>0   </td> <td>35  </td> <td>6   </td> <td>16  </td> <td>1      </td> <td>1     </td> <td>1   </td> <td>28560.4 </td> <td>68    </td> <td>180   </td> <td>1         </td>\n",
       "        </tr>\n",
       "    </tbody>\n",
       "</table>\n",
       "<p>... (17865 rows omitted)</p>"
      ],
      "text/plain": [
       "<IPython.core.display.HTML object>"
      ]
     },
     "metadata": {},
     "output_type": "display_data"
    }
   ],
   "source": [
    "earnings = Table().read_table(\"earnings.csv\")\n",
    "earnings.show(5)"
   ]
  },
  {
   "cell_type": "markdown",
   "id": "1078d6bf",
   "metadata": {},
   "source": [
    "<div class=\"alert alert-warning\">\n",
    "    \n",
    "Before proceeding, please read the <a href=\"https://wps.pearsoned.com/wps/media/objects/11422/11696965/data3eu/Earnings_and_Height_Description.pdf\" target=\"_blank\">data description</a> for this study which gives you information about each variable. **This is very important.**\n",
    "    \n",
    "</div>"
   ]
  },
  {
   "cell_type": "markdown",
   "id": "d291cb85",
   "metadata": {
    "deletable": false,
    "editable": false
   },
   "source": [
    "<!-- BEGIN QUESTION -->\n",
    "\n",
    "**Question 1.1:** What do you expect the sign of the relationship between height and earnings to be? Explain your answer.\n",
    "\n",
    "<!--\n",
    "BEGIN QUESTION\n",
    "name: q1_1\n",
    "manual: true\n",
    "-->"
   ]
  },
  {
   "cell_type": "markdown",
   "id": "ca838205",
   "metadata": {},
   "source": [
    "_Type your answer here, replacing this text._"
   ]
  },
  {
   "cell_type": "markdown",
   "id": "49fc185b",
   "metadata": {},
   "source": [
    "<!-- END QUESTION -->\n",
    "\n",
    "\n",
    "\n",
    "Note: We generally take the log of earnings in regression models but we’re not doing that in this project for the sake of simplicity. We’ll be using log earnings as the dependent variable in section 3."
   ]
  },
  {
   "cell_type": "markdown",
   "id": "f361315b",
   "metadata": {
    "deletable": false,
    "editable": false
   },
   "source": [
    "**Question 1.2:** Here's a simple linear regression equation to model the association between height and earnings:\n",
    "\n",
    "$$\\text{Earnings} = \\beta_1 \\times \\text{Height} + \\alpha$$\n",
    "\n",
    "Perform a regression of `earnings` on `height`. Don't forget to add a constant term!\n",
    "\n",
    "<!--\n",
    "BEGIN QUESTION\n",
    "name: q1_2\n",
    "-->"
   ]
  },
  {
   "cell_type": "code",
   "execution_count": 4,
   "id": "9d6d96e9",
   "metadata": {},
   "outputs": [
    {
     "data": {
      "text/html": [
       "<table class=\"simpletable\">\n",
       "<caption>OLS Regression Results</caption>\n",
       "<tr>\n",
       "  <th>Dep. Variable:</th>            <td>y</td>        <th>  R-squared:         </th>  <td>   0.011</td>  \n",
       "</tr>\n",
       "<tr>\n",
       "  <th>Model:</th>                   <td>OLS</td>       <th>  Adj. R-squared:    </th>  <td>   0.011</td>  \n",
       "</tr>\n",
       "<tr>\n",
       "  <th>Method:</th>             <td>Least Squares</td>  <th>  F-statistic:       </th>  <td>   196.5</td>  \n",
       "</tr>\n",
       "<tr>\n",
       "  <th>Date:</th>             <td>Sun, 13 Nov 2022</td> <th>  Prob (F-statistic):</th>  <td>2.13e-44</td>  \n",
       "</tr>\n",
       "<tr>\n",
       "  <th>Time:</th>                 <td>23:01:58</td>     <th>  Log-Likelihood:    </th> <td>-2.0755e+05</td>\n",
       "</tr>\n",
       "<tr>\n",
       "  <th>No. Observations:</th>      <td> 17870</td>      <th>  AIC:               </th>  <td>4.151e+05</td> \n",
       "</tr>\n",
       "<tr>\n",
       "  <th>Df Residuals:</th>          <td> 17868</td>      <th>  BIC:               </th>  <td>4.151e+05</td> \n",
       "</tr>\n",
       "<tr>\n",
       "  <th>Df Model:</th>              <td>     1</td>      <th>                     </th>      <td> </td>     \n",
       "</tr>\n",
       "<tr>\n",
       "  <th>Covariance Type:</th>      <td>nonrobust</td>    <th>                     </th>      <td> </td>     \n",
       "</tr>\n",
       "</table>\n",
       "<table class=\"simpletable\">\n",
       "<tr>\n",
       "     <td></td>       <th>coef</th>     <th>std err</th>      <th>t</th>      <th>P>|t|</th>  <th>[0.025</th>    <th>0.975]</th>  \n",
       "</tr>\n",
       "<tr>\n",
       "  <th>const</th>  <td> -512.7336</td> <td> 3386.856</td> <td>   -0.151</td> <td> 0.880</td> <td>-7151.299</td> <td> 6125.832</td>\n",
       "</tr>\n",
       "<tr>\n",
       "  <th>height</th> <td>  707.6716</td> <td>   50.489</td> <td>   14.016</td> <td> 0.000</td> <td>  608.708</td> <td>  806.635</td>\n",
       "</tr>\n",
       "</table>\n",
       "<table class=\"simpletable\">\n",
       "<tr>\n",
       "  <th>Omnibus:</th>       <td>346151.826</td> <th>  Durbin-Watson:     </th> <td>   1.683</td>\n",
       "</tr>\n",
       "<tr>\n",
       "  <th>Prob(Omnibus):</th>   <td> 0.000</td>   <th>  Jarque-Bera (JB):  </th> <td>1827.913</td>\n",
       "</tr>\n",
       "<tr>\n",
       "  <th>Skew:</th>            <td> 0.397</td>   <th>  Prob(JB):          </th> <td>    0.00</td>\n",
       "</tr>\n",
       "<tr>\n",
       "  <th>Kurtosis:</th>        <td> 1.649</td>   <th>  Cond. No.          </th> <td>1.13e+03</td>\n",
       "</tr>\n",
       "</table><br/><br/>Notes:<br/>[1] Standard Errors assume that the covariance matrix of the errors is correctly specified.<br/>[2] The condition number is large, 1.13e+03. This might indicate that there are<br/>strong multicollinearity or other numerical problems."
      ],
      "text/plain": [
       "<class 'statsmodels.iolib.summary.Summary'>\n",
       "\"\"\"\n",
       "                            OLS Regression Results                            \n",
       "==============================================================================\n",
       "Dep. Variable:                      y   R-squared:                       0.011\n",
       "Model:                            OLS   Adj. R-squared:                  0.011\n",
       "Method:                 Least Squares   F-statistic:                     196.5\n",
       "Date:                Sun, 13 Nov 2022   Prob (F-statistic):           2.13e-44\n",
       "Time:                        23:01:58   Log-Likelihood:            -2.0755e+05\n",
       "No. Observations:               17870   AIC:                         4.151e+05\n",
       "Df Residuals:                   17868   BIC:                         4.151e+05\n",
       "Df Model:                           1                                         \n",
       "Covariance Type:            nonrobust                                         \n",
       "==============================================================================\n",
       "                 coef    std err          t      P>|t|      [0.025      0.975]\n",
       "------------------------------------------------------------------------------\n",
       "const       -512.7336   3386.856     -0.151      0.880   -7151.299    6125.832\n",
       "height       707.6716     50.489     14.016      0.000     608.708     806.635\n",
       "==============================================================================\n",
       "Omnibus:                   346151.826   Durbin-Watson:                   1.683\n",
       "Prob(Omnibus):                  0.000   Jarque-Bera (JB):             1827.913\n",
       "Skew:                           0.397   Prob(JB):                         0.00\n",
       "Kurtosis:                       1.649   Cond. No.                     1.13e+03\n",
       "==============================================================================\n",
       "\n",
       "Notes:\n",
       "[1] Standard Errors assume that the covariance matrix of the errors is correctly specified.\n",
       "[2] The condition number is large, 1.13e+03. This might indicate that there are\n",
       "strong multicollinearity or other numerical problems.\n",
       "\"\"\""
      ]
     },
     "execution_count": 4,
     "metadata": {},
     "output_type": "execute_result"
    }
   ],
   "source": [
    "\"\"\" # BEGIN PROMPT\n",
    "y_1_2 = ...\n",
    "x_1_2 = ...\n",
    "model_1_2 = ...\n",
    "results_1_2 = ...\n",
    "\"\"\" # END PROMPT\n",
    "# BEGIN SOLUTION NO PROMPT\n",
    "y_1_2 = earnings.column(\"earnings\")\n",
    "x_1_2 = earnings.select(\"height\").to_df()\n",
    "model_1_2 = sm.OLS(y_1_2, sm.add_constant(x_1_2))\n",
    "results_1_2 = model_1_2.fit()\n",
    "# END SOLUTION\n",
    "results_1_2.summary()"
   ]
  },
  {
   "cell_type": "code",
   "execution_count": 5,
   "id": "bbc3efa8",
   "metadata": {
    "deletable": false,
    "editable": false
   },
   "outputs": [
    {
     "data": {
      "text/html": [
       "<p><strong><pre style='display: inline;'>q1_2</pre></strong> passed!</p>"
      ],
      "text/plain": [
       "q1_2 results: All test cases passed!"
      ]
     },
     "execution_count": 5,
     "metadata": {},
     "output_type": "execute_result"
    }
   ],
   "source": [
    "grader.check(\"q1_2\")"
   ]
  },
  {
   "cell_type": "markdown",
   "id": "0928a34e",
   "metadata": {
    "deletable": false,
    "editable": false
   },
   "source": [
    "**Question 1.3:**\n",
    "Why should we include a constant term in this regression model?\n",
    "\n",
    "<ol type=\"A\" style=\"list-style-type: lower-alpha;\">\n",
    "    <li>Because we expect the slope of the line of best fit may be zero.  </li>\n",
    "    <li>Because we expect the slope of the line of best fit may be non-zero.  </li>\n",
    "    <li>Because we expect the x-intercept of the line of best fit may be non-zero.  </li>\n",
    "    <li>Because we expect the y-intercept of the line of best fit may be non-zero.  </li>\n",
    "</ol>\n",
    "\n",
    "Assign a letter corresponding to your answer to `q1_3` below. For example, `q1_3 = 'a'`.\n",
    "\n",
    "<!--\n",
    "BEGIN QUESTION\n",
    "name: q1_3\n",
    "points: \n",
    "    - 0\n",
    "    - 1\n",
    "-->"
   ]
  },
  {
   "cell_type": "code",
   "execution_count": 6,
   "id": "a4ed08cb",
   "metadata": {},
   "outputs": [],
   "source": [
    "q1_3 = 'd' # SOLUTION"
   ]
  },
  {
   "cell_type": "code",
   "execution_count": 7,
   "id": "c5217128",
   "metadata": {
    "deletable": false,
    "editable": false
   },
   "outputs": [
    {
     "data": {
      "text/html": [
       "<p><strong><pre style='display: inline;'>q1_3</pre></strong> passed!</p>"
      ],
      "text/plain": [
       "q1_3 results: All test cases passed!"
      ]
     },
     "execution_count": 7,
     "metadata": {},
     "output_type": "execute_result"
    }
   ],
   "source": [
    "grader.check(\"q1_3\")"
   ]
  },
  {
   "cell_type": "markdown",
   "id": "6eb10627",
   "metadata": {
    "deletable": false,
    "editable": false
   },
   "source": [
    "**Question 1.4:** What is the estimated association between `earnings` and `height`?\n",
    "\n",
    "<!--\n",
    "BEGIN QUESTION\n",
    "name: q1_4\n",
    "-->"
   ]
  },
  {
   "cell_type": "code",
   "execution_count": 8,
   "id": "4723eb4c",
   "metadata": {},
   "outputs": [
    {
     "data": {
      "text/plain": [
       "707.67155842741204"
      ]
     },
     "execution_count": 8,
     "metadata": {},
     "output_type": "execute_result"
    }
   ],
   "source": [
    "\"\"\" # BEGIN PROMPT\n",
    "result_1_4 = ...\n",
    "\"\"\" # END PROMPT\n",
    "# BEGIN SOLUTION NO PROMPT\n",
    "result_1_4 = results_1_2.params['height']\n",
    "# END SOLUTION\n",
    "result_1_4"
   ]
  },
  {
   "cell_type": "code",
   "execution_count": 9,
   "id": "feb7ea8f",
   "metadata": {
    "deletable": false,
    "editable": false
   },
   "outputs": [
    {
     "data": {
      "text/html": [
       "<p><strong><pre style='display: inline;'>q1_4</pre></strong> passed!</p>"
      ],
      "text/plain": [
       "q1_4 results: All test cases passed!"
      ]
     },
     "execution_count": 9,
     "metadata": {},
     "output_type": "execute_result"
    }
   ],
   "source": [
    "grader.check(\"q1_4\")"
   ]
  },
  {
   "cell_type": "markdown",
   "id": "5af74b93",
   "metadata": {
    "deletable": false,
    "editable": false
   },
   "source": [
    "**Question 1.5:** Is the association statistically significant? Answer `True` or `False`.\n",
    "\n",
    "<!--\n",
    "BEGIN QUESTION\n",
    "name: q1_5\n",
    "-->"
   ]
  },
  {
   "cell_type": "code",
   "execution_count": 10,
   "id": "9d5e8547",
   "metadata": {},
   "outputs": [
    {
     "data": {
      "text/plain": [
       "True"
      ]
     },
     "execution_count": 10,
     "metadata": {},
     "output_type": "execute_result"
    }
   ],
   "source": [
    "\"\"\" # BEGIN PROMPT\n",
    "result_1_5 = ...\n",
    "\"\"\" # END PROMPT\n",
    "# BEGIN SOLUTION NO PROMPT\n",
    "result_1_5 = True\n",
    "# END SOLUTION\n",
    "result_1_5"
   ]
  },
  {
   "cell_type": "code",
   "execution_count": null,
   "id": "5f7fe56e",
   "metadata": {
    "deletable": false,
    "editable": false
   },
   "outputs": [],
   "source": [
    "grader.check(\"q1_5\")"
   ]
  },
  {
   "cell_type": "markdown",
   "id": "fd11c0f2",
   "metadata": {
    "deletable": false,
    "editable": false
   },
   "source": [
    "**Question 1.6:** Interpret the slope on the `height` variable (including the units). \n",
    "\n",
    "<ol type=\"A\" style=\"list-style-type: lower-alpha;\">\n",
    "    <li>A 1 inch increase in height corresponds to around \\$707.7 increase in earnings  </li>\n",
    "    <li>A 1 inch increase in height corresponds to around \\$707.7 dncrease in earnings  </li>\n",
    "    <li>A 1% increase in height corresponds to around \\$707.7 increase in earnings  </li>\n",
    "    <li>A 1% increase in height corresponds to around \\$707.7 decrease in earnings  </li>\n",
    "</ol>\n",
    "\n",
    "Assign a letter corresponding to your answer to `q1_6` below. For example, `q1_6 = 'a'`.\n",
    "\n",
    "<!--\n",
    "BEGIN QUESTION\n",
    "name: q1_6\n",
    "points: \n",
    "    - 0\n",
    "    - 1\n",
    "-->"
   ]
  },
  {
   "cell_type": "code",
   "execution_count": 11,
   "id": "73832e8f",
   "metadata": {},
   "outputs": [],
   "source": [
    "q1_6 = 'a' # SOLUTION"
   ]
  },
  {
   "cell_type": "code",
   "execution_count": 12,
   "id": "951fac80",
   "metadata": {
    "deletable": false,
    "editable": false
   },
   "outputs": [
    {
     "data": {
      "text/html": [
       "<p><strong><pre style='display: inline;'>q1_6</pre></strong> passed!</p>"
      ],
      "text/plain": [
       "q1_6 results: All test cases passed!"
      ]
     },
     "execution_count": 12,
     "metadata": {},
     "output_type": "execute_result"
    }
   ],
   "source": [
    "grader.check(\"q1_6\")"
   ]
  },
  {
   "cell_type": "markdown",
   "id": "6457ac3e",
   "metadata": {
    "deletable": false,
    "editable": false
   },
   "source": [
    "**Question 1.7:** Interpret the intercept of the regression (including the units). Does this make practical sense? \n",
    "\n",
    "<ol type=\"A\" style=\"list-style-type: lower-alpha;\">\n",
    "    <li>When height is 0, earnings are estimated to be around -\\$512.7.  </li>\n",
    "    <li>When height is 0, earnings are estimated to be around \\$512.7.  </li>\n",
    "    <li>When earnings are 0, height are estimated to be around -512.7 inches.  </li>\n",
    "    <li>When earnings are 0, height are estimated to be around 512.7 inches.  </li>\n",
    "</ol>\n",
    "\n",
    "Assign a letter corresponding to your answer to `q1_7` below. For example, `q1_7 = 'a'`.\n",
    "\n",
    "<!--\n",
    "BEGIN QUESTION\n",
    "name: q1_7\n",
    "points: \n",
    "    - 0\n",
    "    - 1\n",
    "-->"
   ]
  },
  {
   "cell_type": "code",
   "execution_count": 13,
   "id": "2ef8264f",
   "metadata": {},
   "outputs": [],
   "source": [
    "q1_7 = 'a' # SOLUTION"
   ]
  },
  {
   "cell_type": "code",
   "execution_count": 14,
   "id": "c3bc5b84",
   "metadata": {
    "deletable": false,
    "editable": false
   },
   "outputs": [
    {
     "data": {
      "text/html": [
       "<p><strong><pre style='display: inline;'>q1_7</pre></strong> passed!</p>"
      ],
      "text/plain": [
       "q1_7 results: All test cases passed!"
      ]
     },
     "execution_count": 14,
     "metadata": {},
     "output_type": "execute_result"
    }
   ],
   "source": [
    "grader.check(\"q1_7\")"
   ]
  },
  {
   "cell_type": "markdown",
   "id": "1fe6470c",
   "metadata": {
    "deletable": false,
    "editable": false
   },
   "source": [
    "<!-- BEGIN QUESTION -->\n",
    "\n",
    "**Question 1.8:** If the slope on the independent variable is statistically significant, can we infer a causal relationship between the two variables? Why or why not? When can you infer a causal relationship between 2 variables based on the results of the study?\n",
    "\n",
    "*Hint: Think about the type of study we're looking at.*\n",
    "\n",
    "<!--\n",
    "BEGIN QUESTION\n",
    "name: q1_8\n",
    "manual: true\n",
    "-->"
   ]
  },
  {
   "cell_type": "markdown",
   "id": "68a0cc4f",
   "metadata": {},
   "source": [
    "_Type your answer here, replacing this text._"
   ]
  },
  {
   "cell_type": "markdown",
   "id": "4adae63c",
   "metadata": {
    "deletable": false,
    "editable": false
   },
   "source": [
    "<!-- END QUESTION -->\n",
    "\n",
    "**Question 1.9:** Use the slope and intercept from the regression in question 1.2 to generate predictions for `earnings`.\n",
    "\n",
    "<!--\n",
    "BEGIN QUESTION\n",
    "name: q1_9\n",
    "points: \n",
    "    - 0\n",
    "    - 0.5\n",
    "    - 0.5\n",
    "-->"
   ]
  },
  {
   "cell_type": "code",
   "execution_count": 15,
   "id": "84243024",
   "metadata": {},
   "outputs": [
    {
     "data": {
      "text/plain": [
       "array([ 45485.91770787,  45485.91770787,  41947.55991573, ...,\n",
       "        45485.91770787,  47608.93238315,  47608.93238315])"
      ]
     },
     "execution_count": 15,
     "metadata": {},
     "output_type": "execute_result"
    }
   ],
   "source": [
    "\"\"\" # BEGIN PROMPT\n",
    "predictions_1_9 = ...\n",
    "\"\"\" # END PROMPT\n",
    "# BEGIN SOLUTION NO PROMPT\n",
    "predictions_1_9 = (earnings.column(\"height\") * results_1_2.params[1]) + results_1_2.params[0]\n",
    "# END SOLUTION\n",
    "predictions_1_9"
   ]
  },
  {
   "cell_type": "code",
   "execution_count": 16,
   "id": "6f1c1fd2",
   "metadata": {
    "deletable": false,
    "editable": false
   },
   "outputs": [
    {
     "data": {
      "text/html": [
       "<p><strong><pre style='display: inline;'>q1_9</pre></strong> passed!</p>"
      ],
      "text/plain": [
       "q1_9 results: All test cases passed!"
      ]
     },
     "execution_count": 16,
     "metadata": {},
     "output_type": "execute_result"
    }
   ],
   "source": [
    "grader.check(\"q1_9\")"
   ]
  },
  {
   "cell_type": "markdown",
   "id": "32f84f34",
   "metadata": {
    "deletable": false,
    "editable": false
   },
   "source": [
    "**Question 1.10:** Calculate the RMSE for your regression predictions from question 1.9.\n",
    "\n",
    "<!--\n",
    "BEGIN QUESTION\n",
    "name: q1_10\n",
    "-->"
   ]
  },
  {
   "cell_type": "code",
   "execution_count": 17,
   "id": "7204f905",
   "metadata": {},
   "outputs": [
    {
     "data": {
      "text/plain": [
       "26775.741156313969"
      ]
     },
     "execution_count": 17,
     "metadata": {},
     "output_type": "execute_result"
    }
   ],
   "source": [
    "\"\"\" # BEGIN PROMPT\n",
    "rmse_1_10 = ...\n",
    "\"\"\" # END PROMPT\n",
    "# BEGIN SOLUTION NO PROMPT\n",
    "rmse_1_10 = (np.mean((earnings.column(\"earnings\") - predictions_1_9)**2))**0.5\n",
    "# END SOLUTION\n",
    "rmse_1_10"
   ]
  },
  {
   "cell_type": "code",
   "execution_count": 18,
   "id": "4fa3823d",
   "metadata": {
    "deletable": false,
    "editable": false
   },
   "outputs": [
    {
     "data": {
      "text/html": [
       "<p><strong><pre style='display: inline;'>q1_10</pre></strong> passed!</p>"
      ],
      "text/plain": [
       "q1_10 results: All test cases passed!"
      ]
     },
     "execution_count": 18,
     "metadata": {},
     "output_type": "execute_result"
    }
   ],
   "source": [
    "grader.check(\"q1_10\")"
   ]
  },
  {
   "cell_type": "markdown",
   "id": "69f13959",
   "metadata": {
    "deletable": false,
    "editable": false
   },
   "source": [
    "**Question 1.11:** Which one of the following is true about the RMSE? \n",
    "\n",
    "<ol type=\"A\" style=\"list-style-type: lower-alpha;\">\n",
    "    <li>RMSE is the total sum of square error in the regression.   </li>\n",
    "    <li>RMSE means that on average the predicted earnings are off by $26,775.7.  </li>\n",
    "    <li>It is possible for the RMSE to increase if we add unrelated variables to the regression.  </li>\n",
    "    <li>Higher RMSE means the model more accurately predicts the dependent variable.  </li>\n",
    "</ol>\n",
    "\n",
    "Assign a letter corresponding to your answer to `q1_11` below. For example, `q1_11 = 'a'`.\n",
    "\n",
    "<!--\n",
    "BEGIN QUESTION\n",
    "name: q1_11\n",
    "points: \n",
    "    - 0\n",
    "    - 1\n",
    "-->"
   ]
  },
  {
   "cell_type": "code",
   "execution_count": 19,
   "id": "f64ea832",
   "metadata": {},
   "outputs": [],
   "source": [
    "q1_11 = 'b' # SOLUTION"
   ]
  },
  {
   "cell_type": "code",
   "execution_count": 20,
   "id": "c8a25df8",
   "metadata": {
    "deletable": false,
    "editable": false
   },
   "outputs": [
    {
     "data": {
      "text/html": [
       "<p><strong><pre style='display: inline;'>q1_11</pre></strong> passed!</p>"
      ],
      "text/plain": [
       "q1_11 results: All test cases passed!"
      ]
     },
     "execution_count": 20,
     "metadata": {},
     "output_type": "execute_result"
    }
   ],
   "source": [
    "grader.check(\"q1_11\")"
   ]
  },
  {
   "cell_type": "markdown",
   "id": "bb7a872e",
   "metadata": {},
   "source": [
    "## Part 2: Multiple Linear Regression\n",
    "\n",
    "Now, let's perform multiple linear regression to account for potential confounding variables in our model. For simplicity, we will be using only the following additional regressors: `age`, `educ`, `sex` and `weight`."
   ]
  },
  {
   "cell_type": "markdown",
   "id": "c79f8022",
   "metadata": {
    "deletable": false,
    "editable": false
   },
   "source": [
    "<!-- BEGIN QUESTION -->\n",
    "\n",
    "**Question 2.1:** Pick 2 variables from the 4 additional variables we will be incorporating in the model (`age`, `educ`, `sex` and `weight`) that you think might be potential confounders in the study. Provide a brief explanation for why you think each of the variables may be a confounder. \n",
    "\n",
    "*Hint: Recall that a confounder is related to both the independent and dependent variables, so in your answer, make sure to talk about how each confounder is related to `height` and `weight`.*\n",
    "\n",
    "<!--\n",
    "BEGIN QUESTION\n",
    "name: q2_1\n",
    "manual: true\n",
    "-->"
   ]
  },
  {
   "cell_type": "markdown",
   "id": "b447f959",
   "metadata": {},
   "source": [
    "_Type your answer here, replacing this text._"
   ]
  },
  {
   "cell_type": "markdown",
   "id": "f383931c",
   "metadata": {
    "deletable": false,
    "editable": false
   },
   "source": [
    "<!-- END QUESTION -->\n",
    "\n",
    "**Question 2.2:** Perform another regression with the following new regressors: `age`, `educ`, `sex` and `weight` (also include `height`).\n",
    "\n",
    "<!--\n",
    "BEGIN QUESTION\n",
    "name: q2_2\n",
    "-->"
   ]
  },
  {
   "cell_type": "code",
   "execution_count": 21,
   "id": "951eafe7",
   "metadata": {},
   "outputs": [
    {
     "data": {
      "text/html": [
       "<table class=\"simpletable\">\n",
       "<caption>OLS Regression Results</caption>\n",
       "<tr>\n",
       "  <th>Dep. Variable:</th>            <td>y</td>        <th>  R-squared:         </th>  <td>   0.170</td>  \n",
       "</tr>\n",
       "<tr>\n",
       "  <th>Model:</th>                   <td>OLS</td>       <th>  Adj. R-squared:    </th>  <td>   0.169</td>  \n",
       "</tr>\n",
       "<tr>\n",
       "  <th>Method:</th>             <td>Least Squares</td>  <th>  F-statistic:       </th>  <td>   729.7</td>  \n",
       "</tr>\n",
       "<tr>\n",
       "  <th>Date:</th>             <td>Sun, 13 Nov 2022</td> <th>  Prob (F-statistic):</th>   <td>  0.00</td>   \n",
       "</tr>\n",
       "<tr>\n",
       "  <th>Time:</th>                 <td>23:03:25</td>     <th>  Log-Likelihood:    </th> <td>-2.0598e+05</td>\n",
       "</tr>\n",
       "<tr>\n",
       "  <th>No. Observations:</th>      <td> 17870</td>      <th>  AIC:               </th>  <td>4.120e+05</td> \n",
       "</tr>\n",
       "<tr>\n",
       "  <th>Df Residuals:</th>          <td> 17864</td>      <th>  BIC:               </th>  <td>4.120e+05</td> \n",
       "</tr>\n",
       "<tr>\n",
       "  <th>Df Model:</th>              <td>     5</td>      <th>                     </th>      <td> </td>     \n",
       "</tr>\n",
       "<tr>\n",
       "  <th>Covariance Type:</th>      <td>nonrobust</td>    <th>                     </th>      <td> </td>     \n",
       "</tr>\n",
       "</table>\n",
       "<table class=\"simpletable\">\n",
       "<tr>\n",
       "     <td></td>       <th>coef</th>     <th>std err</th>      <th>t</th>      <th>P>|t|</th>  <th>[0.025</th>    <th>0.975]</th>  \n",
       "</tr>\n",
       "<tr>\n",
       "  <th>const</th>  <td>-4.745e+04</td> <td> 4348.852</td> <td>  -10.911</td> <td> 0.000</td> <td> -5.6e+04</td> <td>-3.89e+04</td>\n",
       "</tr>\n",
       "<tr>\n",
       "  <th>height</th> <td>  414.7890</td> <td>   68.097</td> <td>    6.091</td> <td> 0.000</td> <td>  281.312</td> <td>  548.265</td>\n",
       "</tr>\n",
       "<tr>\n",
       "  <th>age</th>    <td>  335.0852</td> <td>   18.420</td> <td>   18.191</td> <td> 0.000</td> <td>  298.980</td> <td>  371.190</td>\n",
       "</tr>\n",
       "<tr>\n",
       "  <th>educ</th>   <td> 3948.2298</td> <td>   70.529</td> <td>   55.980</td> <td> 0.000</td> <td> 3809.986</td> <td> 4086.473</td>\n",
       "</tr>\n",
       "<tr>\n",
       "  <th>sex</th>    <td>  586.9203</td> <td>  520.681</td> <td>    1.127</td> <td> 0.260</td> <td> -433.665</td> <td> 1607.505</td>\n",
       "</tr>\n",
       "<tr>\n",
       "  <th>weight</th> <td>   -5.0913</td> <td>    3.878</td> <td>   -1.313</td> <td> 0.189</td> <td>  -12.692</td> <td>    2.509</td>\n",
       "</tr>\n",
       "</table>\n",
       "<table class=\"simpletable\">\n",
       "<tr>\n",
       "  <th>Omnibus:</th>       <td>3334.172</td> <th>  Durbin-Watson:     </th> <td>   1.908</td> \n",
       "</tr>\n",
       "<tr>\n",
       "  <th>Prob(Omnibus):</th>  <td> 0.000</td>  <th>  Jarque-Bera (JB):  </th> <td>1045.069</td> \n",
       "</tr>\n",
       "<tr>\n",
       "  <th>Skew:</th>           <td> 0.362</td>  <th>  Prob(JB):          </th> <td>1.16e-227</td>\n",
       "</tr>\n",
       "<tr>\n",
       "  <th>Kurtosis:</th>       <td> 2.062</td>  <th>  Cond. No.          </th> <td>4.61e+03</td> \n",
       "</tr>\n",
       "</table><br/><br/>Notes:<br/>[1] Standard Errors assume that the covariance matrix of the errors is correctly specified.<br/>[2] The condition number is large, 4.61e+03. This might indicate that there are<br/>strong multicollinearity or other numerical problems."
      ],
      "text/plain": [
       "<class 'statsmodels.iolib.summary.Summary'>\n",
       "\"\"\"\n",
       "                            OLS Regression Results                            \n",
       "==============================================================================\n",
       "Dep. Variable:                      y   R-squared:                       0.170\n",
       "Model:                            OLS   Adj. R-squared:                  0.169\n",
       "Method:                 Least Squares   F-statistic:                     729.7\n",
       "Date:                Sun, 13 Nov 2022   Prob (F-statistic):               0.00\n",
       "Time:                        23:03:25   Log-Likelihood:            -2.0598e+05\n",
       "No. Observations:               17870   AIC:                         4.120e+05\n",
       "Df Residuals:                   17864   BIC:                         4.120e+05\n",
       "Df Model:                           5                                         \n",
       "Covariance Type:            nonrobust                                         \n",
       "==============================================================================\n",
       "                 coef    std err          t      P>|t|      [0.025      0.975]\n",
       "------------------------------------------------------------------------------\n",
       "const      -4.745e+04   4348.852    -10.911      0.000    -5.6e+04   -3.89e+04\n",
       "height       414.7890     68.097      6.091      0.000     281.312     548.265\n",
       "age          335.0852     18.420     18.191      0.000     298.980     371.190\n",
       "educ        3948.2298     70.529     55.980      0.000    3809.986    4086.473\n",
       "sex          586.9203    520.681      1.127      0.260    -433.665    1607.505\n",
       "weight        -5.0913      3.878     -1.313      0.189     -12.692       2.509\n",
       "==============================================================================\n",
       "Omnibus:                     3334.172   Durbin-Watson:                   1.908\n",
       "Prob(Omnibus):                  0.000   Jarque-Bera (JB):             1045.069\n",
       "Skew:                           0.362   Prob(JB):                    1.16e-227\n",
       "Kurtosis:                       2.062   Cond. No.                     4.61e+03\n",
       "==============================================================================\n",
       "\n",
       "Notes:\n",
       "[1] Standard Errors assume that the covariance matrix of the errors is correctly specified.\n",
       "[2] The condition number is large, 4.61e+03. This might indicate that there are\n",
       "strong multicollinearity or other numerical problems.\n",
       "\"\"\""
      ]
     },
     "execution_count": 21,
     "metadata": {},
     "output_type": "execute_result"
    }
   ],
   "source": [
    "\"\"\" # BEGIN PROMPT\n",
    "y_2_2 = ...\n",
    "x_2_2 = ...\n",
    "model_2_2 = ...\n",
    "results_2_2 = ...\n",
    "\"\"\" # END PROMPT\n",
    "# BEGIN SOLUTION NO PROMPT\n",
    "y_2_2 = earnings.column(\"earnings\")\n",
    "x_2_2 = earnings.select(\"height\", \"age\",\"educ\", \"sex\", \"weight\").to_df()\n",
    "model_2_2 = sm.OLS(y_2_2, sm.add_constant(x_2_2))\n",
    "results_2_2 = model_2_2.fit()\n",
    "# END SOLUTION\n",
    "results_2_2.summary()"
   ]
  },
  {
   "cell_type": "code",
   "execution_count": 22,
   "id": "42c1b7ea",
   "metadata": {
    "deletable": false,
    "editable": false
   },
   "outputs": [
    {
     "data": {
      "text/html": [
       "<p><strong><pre style='display: inline;'>q2_2</pre></strong> passed!</p>"
      ],
      "text/plain": [
       "q2_2 results: All test cases passed!"
      ]
     },
     "execution_count": 22,
     "metadata": {},
     "output_type": "execute_result"
    }
   ],
   "source": [
    "grader.check(\"q2_2\")"
   ]
  },
  {
   "cell_type": "markdown",
   "id": "dac9ae97",
   "metadata": {
    "deletable": false,
    "editable": false
   },
   "source": [
    "**Question 2.3:** Compare the coefficient on `height` from the regression model in question 2.2 to the coefficient on `height` from the regression model in question 1.2. What does this tell you about the nature of the omitted variable bias in the previous model (is it positive or negative)?\n",
    "\n",
    "Fill in the blanks: The coefficient in 2.2 is \\_\\_\\_\\_\\_ which means that the omitted variable bias in 1.2 is overall \\_\\_\\_\\_\\_. \n",
    "\n",
    "<ol type=\"A\" style=\"list-style-type: lower-alpha;\">\n",
    "    <li>higher; positive</li>\n",
    "    <li>lower; positive</li>\n",
    "    <li>higher; negative</li>\n",
    "    <li>lower; negative</li>\n",
    "</ol>\n",
    "\n",
    "Assign a letter corresponding to your answer to `q2_3` below. For example, `q2_3 = 'a'`.\n",
    "\n",
    "<!--\n",
    "BEGIN QUESTION\n",
    "name: q2_3\n",
    "points: \n",
    "    - 0\n",
    "    - 1\n",
    "-->"
   ]
  },
  {
   "cell_type": "code",
   "execution_count": 23,
   "id": "0f5159f6",
   "metadata": {},
   "outputs": [],
   "source": [
    "q2_3 = 'b' # SOLUTION"
   ]
  },
  {
   "cell_type": "code",
   "execution_count": 24,
   "id": "7eeebf6e",
   "metadata": {
    "deletable": false,
    "editable": false
   },
   "outputs": [
    {
     "data": {
      "text/html": [
       "<p><strong><pre style='display: inline;'>q2_3</pre></strong> passed!</p>"
      ],
      "text/plain": [
       "q2_3 results: All test cases passed!"
      ]
     },
     "execution_count": 24,
     "metadata": {},
     "output_type": "execute_result"
    }
   ],
   "source": [
    "grader.check(\"q2_3\")"
   ]
  },
  {
   "cell_type": "markdown",
   "id": "ae250537",
   "metadata": {
    "deletable": false,
    "editable": false
   },
   "source": [
    "<!-- BEGIN QUESTION -->\n",
    "\n",
    "**Question 2.4:** Look at the regression coefficients for the additional variables we included in question 2.2. Do the coefficients align with your intuition from 2.1 (in terms how they are related to earnings)?\n",
    "\n",
    "<!--\n",
    "BEGIN QUESTION\n",
    "name: q2_4\n",
    "manual: true\n",
    "-->"
   ]
  },
  {
   "cell_type": "markdown",
   "id": "7def3891",
   "metadata": {},
   "source": [
    "_Type your answer here, replacing this text._"
   ]
  },
  {
   "cell_type": "markdown",
   "id": "8c8caebd",
   "metadata": {
    "deletable": false,
    "editable": false
   },
   "source": [
    "<!-- END QUESTION -->\n",
    "\n",
    "<!-- BEGIN QUESTION -->\n",
    "\n",
    "**Question 2.5:** Let's consider the effect of education on earnings. According to the result in 2.2, is the level of education correlated with earnings? Does adding this variable help alleviate omitted variable bias? Why or why not? Explain your answers. \n",
    "\n",
    "<!--\n",
    "BEGIN QUESTION\n",
    "name: q2_5\n",
    "manual: true\n",
    "-->"
   ]
  },
  {
   "cell_type": "markdown",
   "id": "609c479d",
   "metadata": {},
   "source": [
    "_Type your answer here, replacing this text._"
   ]
  },
  {
   "cell_type": "markdown",
   "id": "2b7eb6e1",
   "metadata": {
    "deletable": false,
    "editable": false
   },
   "source": [
    "<!-- END QUESTION -->\n",
    "\n",
    "**Question 2.6:** If we computed the RMSE for this new regression model, do you think it would be higher or lower than the RMSE we computed in 1.10? \n",
    "\n",
    "<ol type=\"A\" style=\"list-style-type: lower-alpha;\">\n",
    "    <li>Lower</li>\n",
    "    <li>Higher</li>\n",
    "    <li>It depends on the specific choice of variables </li>\n",
    "</ol>\n",
    "\n",
    "Assign a letter corresponding to your answer to `q2_6` below. For example, `q2_6 = 'a'`.\n",
    "\n",
    "<!--\n",
    "BEGIN QUESTION\n",
    "name: q2_6\n",
    "points: \n",
    "    - 0\n",
    "    - 1\n",
    "-->"
   ]
  },
  {
   "cell_type": "code",
   "execution_count": 25,
   "id": "d90e3d46",
   "metadata": {},
   "outputs": [],
   "source": [
    "q2_6 = 'a' # SOLUTION"
   ]
  },
  {
   "cell_type": "code",
   "execution_count": 26,
   "id": "a02a487d",
   "metadata": {
    "deletable": false,
    "editable": false
   },
   "outputs": [
    {
     "data": {
      "text/html": [
       "<p><strong><pre style='display: inline;'>q2_6</pre></strong> passed!</p>"
      ],
      "text/plain": [
       "q2_6 results: All test cases passed!"
      ]
     },
     "execution_count": 26,
     "metadata": {},
     "output_type": "execute_result"
    }
   ],
   "source": [
    "grader.check(\"q2_6\")"
   ]
  },
  {
   "cell_type": "markdown",
   "id": "c66f4b9f",
   "metadata": {
    "deletable": false,
    "editable": false
   },
   "source": [
    "**Question 2.7:** Now that we've accounted for some additional confounding variables do you think it makes sense for us to infer a causal relationship between height and earnings?\n",
    "\n",
    "<ol type=\"A\" style=\"list-style-type: lower-alpha;\">\n",
    "    <li>Yes, because the coefficient for height is now highly significant. </li>\n",
    "    <li>Yes, because we have eliminated omitted variable bias by adding control variables in 2.2. </li>\n",
    "    <li>No, because there may be other omitted variables we haven't accounted for.</li>\n",
    "    <li>No, because the set of control variables added in 2.2 is a poor choice. </li>\n",
    "</ol>\n",
    "\n",
    "Assign a letter corresponding to your answer to `q2_7` below. For example, `q2_7 = 'a'`.\n",
    "\n",
    "<!--\n",
    "BEGIN QUESTION\n",
    "name: q2_7\n",
    "points: \n",
    "    - 0\n",
    "    - 1\n",
    "-->"
   ]
  },
  {
   "cell_type": "code",
   "execution_count": 27,
   "id": "0366332a",
   "metadata": {},
   "outputs": [],
   "source": [
    "q2_7 = 'c' # SOLUTION"
   ]
  },
  {
   "cell_type": "code",
   "execution_count": 28,
   "id": "aa259500",
   "metadata": {
    "deletable": false,
    "editable": false
   },
   "outputs": [
    {
     "data": {
      "text/html": [
       "<p><strong><pre style='display: inline;'>q2_7</pre></strong> passed!</p>"
      ],
      "text/plain": [
       "q2_7 results: All test cases passed!"
      ]
     },
     "execution_count": 28,
     "metadata": {},
     "output_type": "execute_result"
    }
   ],
   "source": [
    "grader.check(\"q2_7\")"
   ]
  },
  {
   "cell_type": "markdown",
   "id": "d18b483b",
   "metadata": {
    "deletable": false,
    "editable": false
   },
   "source": [
    "**Question 2.8:** Using regression results in 2.2, now let’s try to predict a person’s earnings based on their characteristics.\n",
    "\n",
    "What would the predicted earnings of a 35-year-old woman with a Bachelor's degree who is 64 inches tall and 124 pounds?\n",
    "\n",
    "*Hint: A person with a Bachelor's degree has completed 15 years of education.*\n",
    "\n",
    "<!--\n",
    "BEGIN QUESTION\n",
    "name: q2_8\n",
    "-->"
   ]
  },
  {
   "cell_type": "code",
   "execution_count": 29,
   "id": "a64e9097",
   "metadata": {},
   "outputs": [
    {
     "data": {
      "text/plain": [
       "49414.269967442197"
      ]
     },
     "execution_count": 29,
     "metadata": {},
     "output_type": "execute_result"
    }
   ],
   "source": [
    "\"\"\" # BEGIN PROMPT\n",
    "prediction_2_8 = ...\n",
    "\"\"\" # END PROMPT\n",
    "# BEGIN SOLUTION NO PROMPT\n",
    "prediction_2_8 = results_2_2.params[0] + (results_2_2.params[1]*64) + (results_2_2.params[2]*35) + (results_2_2.params[3]*15) + (results_2_2.params[4]*0) + (results_2_2.params[5]*124)\n",
    "# END SOLUTION\n",
    "prediction_2_8"
   ]
  },
  {
   "cell_type": "code",
   "execution_count": 30,
   "id": "85d0fd8b",
   "metadata": {
    "deletable": false,
    "editable": false
   },
   "outputs": [
    {
     "data": {
      "text/html": [
       "<p><strong><pre style='display: inline;'>q2_8</pre></strong> passed!</p>"
      ],
      "text/plain": [
       "q2_8 results: All test cases passed!"
      ]
     },
     "execution_count": 30,
     "metadata": {},
     "output_type": "execute_result"
    }
   ],
   "source": [
    "grader.check(\"q2_8\")"
   ]
  },
  {
   "cell_type": "markdown",
   "id": "cdc017a7",
   "metadata": {
    "deletable": false,
    "editable": false
   },
   "source": [
    "**Question 2.9:** Say you wanted to know the relationship between gender (`sex`: a binary variable) and income (`earnings`: a continuous variable). Based on our regression results, how is gender correlated with income?\n",
    "\n",
    "*Hint*: Think about what it means when the coefficient of `sex` is 0 and 1. Also, you can try changing your input for `sex` in 2.8, and see what happens.\n",
    "\n",
    "Assuming all else equal, ...\n",
    "\n",
    "<ol type=\"A\" style=\"list-style-type: lower-alpha;\">\n",
    "    <li>On average, male earns \\$586.92 more than female. </li>\n",
    "    <li>On average, female earns \\$586.92 more than male. </li>\n",
    "    <li>For every 1 inch increase in height, male's income will increase on average \\$586.92 more than that of female. </li>\n",
    "    <li>For every 1 inch increase in height, female's income will increase on average \\$586.92 more than that of male. </li>\n",
    "</ol>\n",
    "\n",
    "Assign a letter corresponding to your answer to `q2_9` below. For example, `q2_9 = 'a'`.\n",
    "\n",
    "<!--\n",
    "BEGIN QUESTION\n",
    "name: q2_9\n",
    "points: \n",
    "    - 0\n",
    "    - 1\n",
    "-->"
   ]
  },
  {
   "cell_type": "code",
   "execution_count": 31,
   "id": "dae7c569",
   "metadata": {},
   "outputs": [],
   "source": [
    "q2_9 = 'a' # SOLUTION"
   ]
  },
  {
   "cell_type": "code",
   "execution_count": 32,
   "id": "839f19f8",
   "metadata": {
    "deletable": false,
    "editable": false
   },
   "outputs": [
    {
     "data": {
      "text/html": [
       "<p><strong><pre style='display: inline;'>q2_9</pre></strong> passed!</p>"
      ],
      "text/plain": [
       "q2_9 results: All test cases passed!"
      ]
     },
     "execution_count": 32,
     "metadata": {},
     "output_type": "execute_result"
    }
   ],
   "source": [
    "grader.check(\"q2_9\")"
   ]
  },
  {
   "cell_type": "markdown",
   "id": "28dc5fdc",
   "metadata": {},
   "source": [
    "## Part 3: Reading Econometrics Tables"
   ]
  },
  {
   "cell_type": "markdown",
   "id": "022aac8f",
   "metadata": {},
   "source": [
    "Researchers tend to run multiple regression models which they summarize in econometrics tables.\n",
    "\n",
    "Below is a table taken from the paper. It shows the regression results from 2 studies on the relationship between height and earnings: the British Cohort Study (BCS) and National Child Development Study (NCDS).\n",
    "\n",
    "<img src = \"https://i.imgur.com/a2o9OPA.png\">"
   ]
  },
  {
   "cell_type": "markdown",
   "id": "0788916b",
   "metadata": {},
   "source": [
    "<div class=\"alert alert-warning\">\n",
    "    \n",
    "Make sure to read the table (including the note at the bottom) before proceeding.\n",
    "    \n",
    "</div>"
   ]
  },
  {
   "cell_type": "markdown",
   "id": "41b2872a",
   "metadata": {},
   "source": [
    "Note that for the questions below, **log earnings** is the dependent variable. Recall the [interpretation of the slope](https://data-88e.github.io/textbook/content/01-demand/03-log-log.html) in this case."
   ]
  },
  {
   "cell_type": "markdown",
   "id": "9b3b6f1e",
   "metadata": {
    "deletable": false,
    "editable": false
   },
   "source": [
    "**Question 3.1:** According to the table, what did the British Cohort Study (1970) find about the relationship between height at age 30, test scores ages 5 and 10, and earnings for women? Use the results with extended controls added in. Which of the followings are correct? There can be 1-4 correct answers. \n",
    "\n",
    "<ol type=\"A\" style=\"list-style-type: lower-alpha;\">\n",
    "    <li>The coefficient on height is statistically significant. </li>\n",
    "    <li>The coefficient on height means for every 1 inch increase in height at age 30, the annual earnings will on average increase by 0.002 dollars. </li>\n",
    "    <li>The coefficient on test scores is statistically significant. </li>\n",
    "    <li>The coefficient on test scores means for every 1 point increase in test scores ages 5 and 10, the annual earnings will on average increase by 19.75 dollars. </li>\n",
    "</ol>\n",
    "\n",
    "Assign an array of letters corresponding to your answer to `q3_1` below. For example, `q3_1 = make_array('a', 'b', 'c', 'd')`.\n",
    "\n",
    "<!--\n",
    "BEGIN QUESTION\n",
    "name: q3_1\n",
    "points: \n",
    "    - 0\n",
    "    - 0\n",
    "    - 1\n",
    "-->"
   ]
  },
  {
   "cell_type": "code",
   "execution_count": 33,
   "id": "44cc3444",
   "metadata": {},
   "outputs": [],
   "source": [
    "q3_1 = make_array('c') # SOLUTION"
   ]
  },
  {
   "cell_type": "code",
   "execution_count": 34,
   "id": "a67318cc",
   "metadata": {
    "deletable": false,
    "editable": false
   },
   "outputs": [
    {
     "data": {
      "text/html": [
       "<p><strong><pre style='display: inline;'>q3_1</pre></strong> passed!</p>"
      ],
      "text/plain": [
       "q3_1 results: All test cases passed!"
      ]
     },
     "execution_count": 34,
     "metadata": {},
     "output_type": "execute_result"
    }
   ],
   "source": [
    "grader.check(\"q3_1\")"
   ]
  },
  {
   "cell_type": "markdown",
   "id": "3baf554d",
   "metadata": {
    "deletable": false,
    "editable": false
   },
   "source": [
    "<!-- BEGIN QUESTION -->\n",
    "\n",
    "**Question 3.2:** Now look at the results of the British Cohort Study for men. There are 3 coefficients reported for height at age 30. Give a brief interpretation of each of these coefficients (including the units). In your explanation, talk about what is causing the differences among these coefficients (hint: look at the *Test scores* and *Extended controls* rows).\n",
    "\n",
    "Note: Assume height is measured in inches for this study.\n",
    "\n",
    "<!--\n",
    "BEGIN QUESTION\n",
    "name: q3_2\n",
    "manual: true\n",
    "-->"
   ]
  },
  {
   "cell_type": "markdown",
   "id": "8b81e230",
   "metadata": {},
   "source": [
    "_Type your answer here, replacing this text._"
   ]
  },
  {
   "cell_type": "markdown",
   "id": "cf9ce44f",
   "metadata": {},
   "source": [
    "<!-- END QUESTION -->\n",
    "\n",
    "\n",
    "\n",
    "## Conclusion"
   ]
  },
  {
   "cell_type": "markdown",
   "id": "67b195a1",
   "metadata": {},
   "source": [
    "This brings us to the end of project 4! You've learned some key econometrics skills such as running regressions and reading econometrics tables. You've also developed an intuition for ordinary linear regression, omitted variable bias and regression with dummy variables.\n",
    "\n",
    "Also, we didn't cover a large part of Case and Paxson's [fascinating study](https://www.nber.org/system/files/working_papers/w12466/w12466.pdf) so if you're interested in how they explain the positive association between height and earnings, we recommend giving the paper a read!\n",
    "\n",
    "Congratulations on finishing your final DATA 88E project!"
   ]
  },
  {
   "cell_type": "markdown",
   "id": "53856a35",
   "metadata": {},
   "source": [
    "---"
   ]
  },
  {
   "cell_type": "markdown",
   "id": "05a8ef94",
   "metadata": {
    "deletable": false,
    "editable": false
   },
   "source": [
    "---\n",
    "\n",
    "To double-check your work, the cell below will rerun all of the autograder tests."
   ]
  },
  {
   "cell_type": "code",
   "execution_count": 35,
   "id": "a763b42f",
   "metadata": {
    "deletable": false,
    "editable": false
   },
   "outputs": [
    {
     "data": {
      "text/plain": [
       "q1_10 results: All test cases passed!\n",
       "\n",
       "q1_11 results: All test cases passed!\n",
       "\n",
       "q1_2 results: All test cases passed!\n",
       "\n",
       "q1_3 results: All test cases passed!\n",
       "\n",
       "q1_4 results: All test cases passed!\n",
       "\n",
       "q1_5 results: All test cases passed!\n",
       "\n",
       "q1_6 results: All test cases passed!\n",
       "\n",
       "q1_7 results: All test cases passed!\n",
       "\n",
       "q1_9 results: All test cases passed!\n",
       "\n",
       "q2_2 results: All test cases passed!\n",
       "\n",
       "q2_3 results: All test cases passed!\n",
       "\n",
       "q2_6 results: All test cases passed!\n",
       "\n",
       "q2_7 results: All test cases passed!\n",
       "\n",
       "q2_8 results: All test cases passed!\n",
       "\n",
       "q2_9 results: All test cases passed!\n",
       "\n",
       "q3_1 results: All test cases passed!"
      ]
     },
     "execution_count": 35,
     "metadata": {},
     "output_type": "execute_result"
    }
   ],
   "source": [
    "grader.check_all()"
   ]
  },
  {
   "cell_type": "markdown",
   "id": "a4c3e354",
   "metadata": {
    "deletable": false,
    "editable": false
   },
   "source": [
    "## Submission\n",
    "\n",
    "Make sure you have run all cells in your notebook in order before running the cell below, so that all images/graphs appear in the output. The cell below will generate a zip file for you to submit. **Please save before exporting!**"
   ]
  },
  {
   "cell_type": "code",
   "execution_count": null,
   "id": "ca69fd12",
   "metadata": {
    "deletable": false,
    "editable": false
   },
   "outputs": [],
   "source": [
    "# Save your notebook first, then run this cell to export your submission.\n",
    "grader.export()"
   ]
  },
  {
   "cell_type": "markdown",
   "id": "09c0c341",
   "metadata": {},
   "source": [
    " "
   ]
  }
 ],
 "metadata": {
  "kernelspec": {
   "display_name": "Python 3 (ipykernel)",
   "language": "python",
   "name": "python3"
  },
  "language_info": {
   "codemirror_mode": {
    "name": "ipython",
    "version": 3
   },
   "file_extension": ".py",
   "mimetype": "text/x-python",
   "name": "python",
   "nbconvert_exporter": "python",
   "pygments_lexer": "ipython3",
   "version": "3.10.8"
  }
 },
 "nbformat": 4,
 "nbformat_minor": 5
}
